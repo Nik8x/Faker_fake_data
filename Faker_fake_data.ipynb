{
  "nbformat": 4,
  "nbformat_minor": 0,
  "metadata": {
    "colab": {
      "name": "Faker_fake_data.ipynb",
      "version": "0.3.2",
      "provenance": [],
      "include_colab_link": true
    },
    "kernelspec": {
      "name": "python3",
      "display_name": "Python 3"
    }
  },
  "cells": [
    {
      "cell_type": "markdown",
      "metadata": {
        "id": "view-in-github",
        "colab_type": "text"
      },
      "source": [
        "<a href=\"https://colab.research.google.com/github/Nik8x/Faker_fake_data/blob/master/Faker_fake_data.ipynb\" target=\"_parent\"><img src=\"https://colab.research.google.com/assets/colab-badge.svg\" alt=\"Open In Colab\"/></a>"
      ]
    },
    {
      "cell_type": "markdown",
      "metadata": {
        "id": "CmM50bPb_Gw0",
        "colab_type": "text"
      },
      "source": [
        "- Our aim is to :\n",
        "  - generate random data\n",
        "    - using Faker [Faker’s documentation](https://faker.readthedocs.io/en/master/)\n",
        "    - Faker is a Python package that generates fake data for you. "
      ]
    },
    {
      "cell_type": "code",
      "metadata": {
        "id": "rceKzejf_Dg7",
        "colab_type": "code",
        "colab": {}
      },
      "source": [
        "import pandas as pd\n",
        "\n",
        "# !pip install Faker\n",
        "from faker import Faker\n",
        "fake = Faker()\n",
        "\n",
        "from tqdm import tqdm"
      ],
      "execution_count": 0,
      "outputs": []
    },
    {
      "cell_type": "code",
      "metadata": {
        "id": "gcgENV0a_V7S",
        "colab_type": "code",
        "colab": {
          "base_uri": "https://localhost:8080/",
          "height": 34
        },
        "outputId": "abdc413c-ec25-49f6-85d6-5025c814cc74"
      },
      "source": [
        "fake.name()\n",
        "fake.company()"
      ],
      "execution_count": 7,
      "outputs": [
        {
          "output_type": "execute_result",
          "data": {
            "text/plain": [
              "'Reed Group'"
            ]
          },
          "metadata": {
            "tags": []
          },
          "execution_count": 7
        }
      ]
    },
    {
      "cell_type": "code",
      "metadata": {
        "id": "hlsCiDrr_nX5",
        "colab_type": "code",
        "colab": {
          "base_uri": "https://localhost:8080/",
          "height": 34
        },
        "outputId": "768dd109-84f9-40ee-b1a3-0e7aa012e8d0"
      },
      "source": [
        "fake.seed(1.10000000000002)\n",
        "fake.name()"
      ],
      "execution_count": 29,
      "outputs": [
        {
          "output_type": "execute_result",
          "data": {
            "text/plain": [
              "'Debbie Macdonald'"
            ]
          },
          "metadata": {
            "tags": []
          },
          "execution_count": 29
        }
      ]
    },
    {
      "cell_type": "code",
      "metadata": {
        "id": "8HW4w7hWBx5_",
        "colab_type": "code",
        "colab": {
          "base_uri": "https://localhost:8080/",
          "height": 69
        },
        "outputId": "7f43188e-a5fe-4656-f1c1-68ea99666e91"
      },
      "source": [
        "%%time\n",
        "name = []\n",
        "phone = []\n",
        "company = []\n",
        "company_email = []\n",
        "city = []\n",
        "zipcode = []\n",
        "\n",
        "id = list(range(1000,9999))\n",
        "for i in tqdm(id):\n",
        "  fake.seed(i)\n",
        "  name.append(fake.name())\n",
        "  phone.append(fake.phone_number())\n",
        "  company.append(fake.company())\n",
        "  company_email.append(fake.company_email())\n",
        "  city.append(fake.city())\n",
        "  zipcode.append(fake.zipcode())"
      ],
      "execution_count": 83,
      "outputs": [
        {
          "output_type": "stream",
          "text": [
            "100%|██████████| 8999/8999 [00:07<00:00, 1205.33it/s]"
          ],
          "name": "stderr"
        },
        {
          "output_type": "stream",
          "text": [
            "CPU times: user 7.42 s, sys: 35.7 ms, total: 7.45 s\n",
            "Wall time: 7.47 s\n"
          ],
          "name": "stdout"
        },
        {
          "output_type": "stream",
          "text": [
            "\n"
          ],
          "name": "stderr"
        }
      ]
    },
    {
      "cell_type": "code",
      "metadata": {
        "id": "Zw0-uxbJH9jx",
        "colab_type": "code",
        "colab": {
          "base_uri": "https://localhost:8080/",
          "height": 198
        },
        "outputId": "f7333b59-7d7b-4419-fb45-fbdcea47efd8"
      },
      "source": [
        "df = pd.DataFrame({\"name\" : name, \"phone_number\" : phone, \"company\" : company, \"company_email\" : company_email, \"city\" : city , \"zipcode\" : zipcode})\n",
        "df.head()"
      ],
      "execution_count": 84,
      "outputs": [
        {
          "output_type": "execute_result",
          "data": {
            "text/html": [
              "<div>\n",
              "<style scoped>\n",
              "    .dataframe tbody tr th:only-of-type {\n",
              "        vertical-align: middle;\n",
              "    }\n",
              "\n",
              "    .dataframe tbody tr th {\n",
              "        vertical-align: top;\n",
              "    }\n",
              "\n",
              "    .dataframe thead th {\n",
              "        text-align: right;\n",
              "    }\n",
              "</style>\n",
              "<table border=\"1\" class=\"dataframe\">\n",
              "  <thead>\n",
              "    <tr style=\"text-align: right;\">\n",
              "      <th></th>\n",
              "      <th>name</th>\n",
              "      <th>phone_number</th>\n",
              "      <th>company</th>\n",
              "      <th>company_email</th>\n",
              "      <th>city</th>\n",
              "      <th>zipcode</th>\n",
              "    </tr>\n",
              "  </thead>\n",
              "  <tbody>\n",
              "    <tr>\n",
              "      <th>0</th>\n",
              "      <td>Mckenzie Garcia</td>\n",
              "      <td>728-623-3573x537</td>\n",
              "      <td>Gregory PLC</td>\n",
              "      <td>ewingjennifer@harris.info</td>\n",
              "      <td>Robinsonmouth</td>\n",
              "      <td>92075</td>\n",
              "    </tr>\n",
              "    <tr>\n",
              "      <th>1</th>\n",
              "      <td>Amy Wolf</td>\n",
              "      <td>+1-186-265-9693x90079</td>\n",
              "      <td>Lopez, Shaw and Jacobson</td>\n",
              "      <td>tsmith@russell-anderson.net</td>\n",
              "      <td>New Charles</td>\n",
              "      <td>73440</td>\n",
              "    </tr>\n",
              "    <tr>\n",
              "      <th>2</th>\n",
              "      <td>Jennifer Walker</td>\n",
              "      <td>729-916-8033</td>\n",
              "      <td>Williams, Johnson and Hawkins</td>\n",
              "      <td>aguilarlarry@casey.net</td>\n",
              "      <td>Hurleyfurt</td>\n",
              "      <td>91095</td>\n",
              "    </tr>\n",
              "    <tr>\n",
              "      <th>3</th>\n",
              "      <td>Ian Bowen MD</td>\n",
              "      <td>(051)787-8145x980</td>\n",
              "      <td>Vega-Payne</td>\n",
              "      <td>gabrielletran@cooper.biz</td>\n",
              "      <td>Brownbury</td>\n",
              "      <td>17741</td>\n",
              "    </tr>\n",
              "    <tr>\n",
              "      <th>4</th>\n",
              "      <td>William Austin</td>\n",
              "      <td>+1-833-502-9518</td>\n",
              "      <td>Smith PLC</td>\n",
              "      <td>daviswilliam@johnson-simmons.com</td>\n",
              "      <td>Monicaburgh</td>\n",
              "      <td>04401</td>\n",
              "    </tr>\n",
              "  </tbody>\n",
              "</table>\n",
              "</div>"
            ],
            "text/plain": [
              "              name           phone_number  ...           city zipcode\n",
              "0  Mckenzie Garcia       728-623-3573x537  ...  Robinsonmouth   92075\n",
              "1         Amy Wolf  +1-186-265-9693x90079  ...    New Charles   73440\n",
              "2  Jennifer Walker           729-916-8033  ...     Hurleyfurt   91095\n",
              "3     Ian Bowen MD      (051)787-8145x980  ...      Brownbury   17741\n",
              "4   William Austin        +1-833-502-9518  ...    Monicaburgh   04401\n",
              "\n",
              "[5 rows x 6 columns]"
            ]
          },
          "metadata": {
            "tags": []
          },
          "execution_count": 84
        }
      ]
    },
    {
      "cell_type": "code",
      "metadata": {
        "id": "OuNrW3EOJI2m",
        "colab_type": "code",
        "colab": {
          "base_uri": "https://localhost:8080/",
          "height": 34
        },
        "outputId": "d121132e-5eda-4d69-e9dc-46940aa4e5e2"
      },
      "source": [
        "df.shape"
      ],
      "execution_count": 82,
      "outputs": [
        {
          "output_type": "execute_result",
          "data": {
            "text/plain": [
              "(8999, 6)"
            ]
          },
          "metadata": {
            "tags": []
          },
          "execution_count": 82
        }
      ]
    },
    {
      "cell_type": "code",
      "metadata": {
        "id": "d8MhF0mitLs2",
        "colab_type": "code",
        "colab": {}
      },
      "source": [
        ""
      ],
      "execution_count": 0,
      "outputs": []
    }
  ]
}